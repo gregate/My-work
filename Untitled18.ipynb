{
 "cells": [
  {
   "cell_type": "markdown",
   "id": "6637d024-c50c-471e-96a7-b4e07cb9e944",
   "metadata": {},
   "source": [
    "# Casting, Specifying, Converting data type"
   ]
  },
  {
   "cell_type": "code",
   "execution_count": 2,
   "id": "f7daeed8-7ad3-40d2-9627-6e10db8176af",
   "metadata": {},
   "outputs": [
    {
     "name": "stdout",
     "output_type": "stream",
     "text": [
      "5 : <class 'int'>\n",
      "10 : <class 'int'>\n",
      "2.0 : <class 'float'>\n"
     ]
    }
   ],
   "source": [
    "# Example: Converting data type\n",
    "integer1 = 5\n",
    "integer2 = 10\n",
    "answer = integer_2 / integer_1\n",
    "#print the variable and its data type.\n",
    "#use colon (:) as separator\n",
    "print (integer_1, \":\", type(integer1))\n",
    "print (integer_2, \":\", type(integer2))\n",
    "print (answer, \":\", type(answer))"
   ]
  },
  {
   "cell_type": "code",
   "execution_count": 4,
   "id": "2f165add-1729-4809-a9fd-fd2a8a656119",
   "metadata": {},
   "outputs": [
    {
     "name": "stdout",
     "output_type": "stream",
     "text": [
      "42.0 : <class 'float'>\n",
      "3 : <class 'int'>\n"
     ]
    }
   ],
   "source": [
    "# Example: Casting data types\n",
    "float_result = float (\"42\")\n",
    "integer_from_float_result = int(float(\"3.14\"))\n",
    "\n",
    "#print the variable and its data type\n",
    "#use colon (:) as seperator\n",
    "print (float_result, \":\", type(float_result))\n",
    "print (integer_from_float_result, \":\", type(integer_from_float_result))"
   ]
  },
  {
   "cell_type": "code",
   "execution_count": 5,
   "id": "985e0a03-093d-4988-af67-a50fbcd2e98c",
   "metadata": {},
   "outputs": [
    {
     "name": "stdout",
     "output_type": "stream",
     "text": [
      "128.67 : <class 'float'>\n"
     ]
    }
   ],
   "source": [
    "variable_a = 5.67\n",
    "variable_b = \"123\"\n",
    "\n",
    "#perform type casting \n",
    "variable_a = float(variable_a)\n",
    "variable_b = int(variable_b)\n",
    "\n",
    "#add the variables\n",
    "result = variable_a + variable_b\n",
    "\n",
    "print (result, \":\" , type(result))"
   ]
  },
  {
   "cell_type": "code",
   "execution_count": 9,
   "id": "07a1d804-8204-4604-96b8-5b23f31bcd64",
   "metadata": {},
   "outputs": [
    {
     "name": "stdout",
     "output_type": "stream",
     "text": [
      "42 : <class 'int'>\n",
      "42.42 : <class 'float'>\n"
     ]
    }
   ],
   "source": [
    "mixed_variable = \"42.42\"\n",
    "\n",
    "#type conversion\n",
    "float_version = float(mixed_variable)\n",
    "integer_version = int(float_version)\n",
    "\n",
    "print (integer_version, \":\", type(integer_version))\n",
    "print (float_version, \":\", type(float_version))"
   ]
  },
  {
   "cell_type": "code",
   "execution_count": 10,
   "id": "c5a277d1-e2d1-48ad-a19d-eb0956c4d554",
   "metadata": {},
   "outputs": [
    {
     "name": "stdout",
     "output_type": "stream",
     "text": [
      "4246\n"
     ]
    }
   ],
   "source": [
    "total_amount = 42.46\n",
    "total_amount_in_cents = int(total_amount*100)\n",
    "\n",
    "print (total_amount_in_cents)"
   ]
  },
  {
   "cell_type": "markdown",
   "id": "e6e3355d-accd-408b-b508-19c30e650294",
   "metadata": {},
   "source": [
    "# Strings"
   ]
  },
  {
   "cell_type": "code",
   "execution_count": 2,
   "id": "980f4963-c902-4ab2-8219-52ef82fec976",
   "metadata": {},
   "outputs": [
    {
     "name": "stdout",
     "output_type": "stream",
     "text": [
      "Creating a string using single quotes\n",
      "Creating a string using double quotes\n"
     ]
    }
   ],
   "source": [
    "# Example: Creating a string variable\n",
    "single_quotes = 'Creating a string using single quotes'\n",
    "double_quotes = \"Creating a string using double quotes\"\n",
    "\n",
    "# print the variables\n",
    "print (single_quotes)\n",
    "print (double_quotes)\n"
   ]
  },
  {
   "cell_type": "code",
   "execution_count": 3,
   "id": "e3b9b14b-bf55-4283-81ad-fcdc19fb9bdf",
   "metadata": {},
   "outputs": [
    {
     "name": "stdout",
     "output_type": "stream",
     "text": [
      "Positive indexing:\n",
      "First character: H\n",
      "Second character: e\n",
      "Last character: !\n"
     ]
    }
   ],
   "source": [
    "# Example: positive indexing\n",
    "my_string = \"Hello, World!\"\n",
    "\n",
    "# Accessing characters using positive indexing\n",
    "first_char = my_string[0]\n",
    "second_char = my_string[1]\n",
    "last_char = my_string[12]\n",
    "\n",
    "print(\"Positive indexing:\")\n",
    "print(\"First character:\", first_char)\n",
    "print(\"Second character:\", second_char)\n",
    "print(\"Last character:\", last_char)"
   ]
  },
  {
   "cell_type": "code",
   "execution_count": 4,
   "id": "4e5bd61c-70a3-495f-bd8d-7f1ad1658752",
   "metadata": {},
   "outputs": [
    {
     "name": "stdout",
     "output_type": "stream",
     "text": [
      "\n",
      "Negative indexing:\n",
      "Last character: !\n",
      "Second last character: d\n",
      "First character: H\n"
     ]
    }
   ],
   "source": [
    "# Example: negative indexing\n",
    "# Accessing characters using negative indexing\n",
    "last_char_negative = my_string[-1]\n",
    "second_last_char = my_string[-2]\n",
    "first_char_negative = my_string[-13]\n",
    "\n",
    "print(\"\\nNegative indexing:\")\n",
    "print(\"Last character:\", last_char_negative)\n",
    "print(\"Second last character:\", second_last_char)\n",
    "print(\"First character:\", first_char_negative)"
   ]
  },
  {
   "cell_type": "code",
   "execution_count": 5,
   "id": "60d96416-6ada-433f-8c8b-d0758552df6f",
   "metadata": {},
   "outputs": [
    {
     "name": "stdout",
     "output_type": "stream",
     "text": [
      "hello, world?\n"
     ]
    }
   ],
   "source": [
    "# Creating a new string by concatenation\n",
    "\n",
    "original_string = \"Hello, World!\"\n",
    "original_string = \"hello, world?\"\n",
    "\n",
    "print (original_string)"
   ]
  },
  {
   "cell_type": "markdown",
   "id": "dd0eeb04-7c78-4d53-9381-47e11b35f6c3",
   "metadata": {},
   "source": [
    "# Print() function"
   ]
  },
  {
   "cell_type": "code",
   "execution_count": 6,
   "id": "0431a226-5e6b-4657-abbd-497908738268",
   "metadata": {},
   "outputs": [
    {
     "name": "stdout",
     "output_type": "stream",
     "text": [
      "Hello, world\n"
     ]
    }
   ],
   "source": [
    "# basic use of print() function\n",
    "print (\"Hello, world\")"
   ]
  },
  {
   "cell_type": "code",
   "execution_count": 7,
   "id": "82b46c68-4cd7-4963-bc9f-193517e41557",
   "metadata": {},
   "outputs": [
    {
     "name": "stdout",
     "output_type": "stream",
     "text": [
      "Name: Alice\n",
      "Age: 25\n"
     ]
    }
   ],
   "source": [
    "# Example: combining strings and variables\n",
    "name = \"Alice\"\n",
    "age = \"25\"\n",
    "\n",
    "print (\"Name:\", name)\n",
    "print (\"Age:\", age)"
   ]
  },
  {
   "cell_type": "code",
   "execution_count": 8,
   "id": "12d87652-66bd-4d4b-bf49-2e0c70b267c3",
   "metadata": {},
   "outputs": [
    {
     "name": "stdout",
     "output_type": "stream",
     "text": [
      "this is a multiline string.\n",
      "It spans multiple lines.\n",
      "Printed using the print function.\n"
     ]
    }
   ],
   "source": [
    "# Example: printing multiline output\n",
    "multiline_text = '''this is a multiline string.\n",
    "It spans multiple lines.\n",
    "Printed using the print function.'''\n",
    "print (multiline_text)"
   ]
  },
  {
   "cell_type": "code",
   "execution_count": null,
   "id": "343b2bf5-b3e6-4a3f-9a36-2ae287484241",
   "metadata": {},
   "outputs": [],
   "source": []
  }
 ],
 "metadata": {
  "kernelspec": {
   "display_name": "Python 3 (ipykernel)",
   "language": "python",
   "name": "python3"
  },
  "language_info": {
   "codemirror_mode": {
    "name": "ipython",
    "version": 3
   },
   "file_extension": ".py",
   "mimetype": "text/x-python",
   "name": "python",
   "nbconvert_exporter": "python",
   "pygments_lexer": "ipython3",
   "version": "3.13.5"
  }
 },
 "nbformat": 4,
 "nbformat_minor": 5
}
