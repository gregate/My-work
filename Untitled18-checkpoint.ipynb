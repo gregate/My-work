{
 "cells": [
  {
   "cell_type": "markdown",
   "id": "6637d024-c50c-471e-96a7-b4e07cb9e944",
   "metadata": {},
   "source": [
    "# Casting, Specifying, Converting data type"
   ]
  },
  {
   "cell_type": "code",
   "execution_count": 2,
   "id": "f7daeed8-7ad3-40d2-9627-6e10db8176af",
   "metadata": {},
   "outputs": [
    {
     "name": "stdout",
     "output_type": "stream",
     "text": [
      "5 : <class 'int'>\n",
      "10 : <class 'int'>\n",
      "2.0 : <class 'float'>\n"
     ]
    }
   ],
   "source": [
    "# Example: Converting data type\n",
    "integer1 = 5\n",
    "integer2 = 10\n",
    "answer = integer_2 / integer_1\n",
    "#print the variable and its data type.\n",
    "#use colon (:) as separator\n",
    "print (integer_1, \":\", type(integer1))\n",
    "print (integer_2, \":\", type(integer2))\n",
    "print (answer, \":\", type(answer))"
   ]
  },
  {
   "cell_type": "code",
   "execution_count": 4,
   "id": "2f165add-1729-4809-a9fd-fd2a8a656119",
   "metadata": {},
   "outputs": [
    {
     "name": "stdout",
     "output_type": "stream",
     "text": [
      "42.0 : <class 'float'>\n",
      "3 : <class 'int'>\n"
     ]
    }
   ],
   "source": [
    "# Example: Casting data types\n",
    "float_result = float (\"42\")\n",
    "integer_from_float_result = int(float(\"3.14\"))\n",
    "\n",
    "#print the variable and its data type\n",
    "#use colon (:) as seperator\n",
    "print (float_result, \":\", type(float_result))\n",
    "print (integer_from_float_result, \":\", type(integer_from_float_result))"
   ]
  },
  {
   "cell_type": "code",
   "execution_count": 5,
   "id": "985e0a03-093d-4988-af67-a50fbcd2e98c",
   "metadata": {},
   "outputs": [
    {
     "name": "stdout",
     "output_type": "stream",
     "text": [
      "128.67 : <class 'float'>\n"
     ]
    }
   ],
   "source": [
    "variable_a = 5.67\n",
    "variable_b = \"123\"\n",
    "\n",
    "#perform type casting \n",
    "variable_a = float(variable_a)\n",
    "variable_b = int(variable_b)\n",
    "\n",
    "#add the variables\n",
    "result = variable_a + variable_b\n",
    "\n",
    "print (result, \":\" , type(result))"
   ]
  },
  {
   "cell_type": "code",
   "execution_count": 9,
   "id": "07a1d804-8204-4604-96b8-5b23f31bcd64",
   "metadata": {},
   "outputs": [
    {
     "name": "stdout",
     "output_type": "stream",
     "text": [
      "42 : <class 'int'>\n",
      "42.42 : <class 'float'>\n"
     ]
    }
   ],
   "source": [
    "mixed_variable = \"42.42\"\n",
    "\n",
    "#type conversion\n",
    "float_version = float(mixed_variable)\n",
    "integer_version = int(float_version)\n",
    "\n",
    "print (integer_version, \":\", type(integer_version))\n",
    "print (float_version, \":\", type(float_version))"
   ]
  },
  {
   "cell_type": "code",
   "execution_count": 10,
   "id": "c5a277d1-e2d1-48ad-a19d-eb0956c4d554",
   "metadata": {},
   "outputs": [
    {
     "name": "stdout",
     "output_type": "stream",
     "text": [
      "4246\n"
     ]
    }
   ],
   "source": [
    "total_amount = 42.46\n",
    "total_amount_in_cents = int(total_amount*100)\n",
    "\n",
    "print (total_amount_in_cents)"
   ]
  },
  {
   "cell_type": "markdown",
   "id": "e6e3355d-accd-408b-b508-19c30e650294",
   "metadata": {},
   "source": [
    "# Strings"
   ]
  },
  {
   "cell_type": "code",
   "execution_count": 2,
   "id": "980f4963-c902-4ab2-8219-52ef82fec976",
   "metadata": {},
   "outputs": [
    {
     "name": "stdout",
     "output_type": "stream",
     "text": [
      "Creating a string using single quotes\n",
      "Creating a string using double quotes\n"
     ]
    }
   ],
   "source": [
    "# Example: Creating a string variable\n",
    "single_quotes = 'Creating a string using single quotes'\n",
    "double_quotes = \"Creating a string using double quotes\"\n",
    "\n",
    "# print the variables\n",
    "print (single_quotes)\n",
    "print (double_quotes)\n"
   ]
  },
  {
   "cell_type": "code",
   "execution_count": 3,
   "id": "e3b9b14b-bf55-4283-81ad-fcdc19fb9bdf",
   "metadata": {},
   "outputs": [
    {
     "name": "stdout",
     "output_type": "stream",
     "text": [
      "Positive indexing:\n",
      "First character: H\n",
      "Second character: e\n",
      "Last character: !\n"
     ]
    }
   ],
   "source": [
    "# Example: positive indexing\n",
    "my_string = \"Hello, World!\"\n",
    "\n",
    "# Accessing characters using positive indexing\n",
    "first_char = my_string[0]\n",
    "second_char = my_string[1]\n",
    "last_char = my_string[12]\n",
    "\n",
    "print(\"Positive indexing:\")\n",
    "print(\"First character:\", first_char)\n",
    "print(\"Second character:\", second_char)\n",
    "print(\"Last character:\", last_char)"
   ]
  },
  {
   "cell_type": "code",
   "execution_count": 4,
   "id": "4e5bd61c-70a3-495f-bd8d-7f1ad1658752",
   "metadata": {},
   "outputs": [
    {
     "name": "stdout",
     "output_type": "stream",
     "text": [
      "\n",
      "Negative indexing:\n",
      "Last character: !\n",
      "Second last character: d\n",
      "First character: H\n"
     ]
    }
   ],
   "source": [
    "# Example: negative indexing\n",
    "# Accessing characters using negative indexing\n",
    "last_char_negative = my_string[-1]\n",
    "second_last_char = my_string[-2]\n",
    "first_char_negative = my_string[-13]\n",
    "\n",
    "print(\"\\nNegative indexing:\")\n",
    "print(\"Last character:\", last_char_negative)\n",
    "print(\"Second last character:\", second_last_char)\n",
    "print(\"First character:\", first_char_negative)"
   ]
  },
  {
   "cell_type": "code",
   "execution_count": 5,
   "id": "60d96416-6ada-433f-8c8b-d0758552df6f",
   "metadata": {},
   "outputs": [
    {
     "name": "stdout",
     "output_type": "stream",
     "text": [
      "hello, world?\n"
     ]
    }
   ],
   "source": [
    "# Creating a new string by concatenation\n",
    "\n",
    "original_string = \"Hello, World!\"\n",
    "original_string = \"hello, world?\"\n",
    "\n",
    "print (original_string)"
   ]
  },
  {
   "cell_type": "markdown",
   "id": "dd0eeb04-7c78-4d53-9381-47e11b35f6c3",
   "metadata": {},
   "source": [
    "# Print() function"
   ]
  },
  {
   "cell_type": "code",
   "execution_count": 6,
   "id": "0431a226-5e6b-4657-abbd-497908738268",
   "metadata": {},
   "outputs": [
    {
     "name": "stdout",
     "output_type": "stream",
     "text": [
      "Hello, world\n"
     ]
    }
   ],
   "source": [
    "# basic use of print() function\n",
    "print (\"Hello, world\")"
   ]
  },
  {
   "cell_type": "code",
   "execution_count": 7,
   "id": "82b46c68-4cd7-4963-bc9f-193517e41557",
   "metadata": {},
   "outputs": [
    {
     "name": "stdout",
     "output_type": "stream",
     "text": [
      "Name: Alice\n",
      "Age: 25\n"
     ]
    }
   ],
   "source": [
    "# Example: combining strings and variables\n",
    "name = \"Alice\"\n",
    "age = \"25\"\n",
    "\n",
    "print (\"Name:\", name)\n",
    "print (\"Age:\", age)"
   ]
  },
  {
   "cell_type": "code",
   "execution_count": 8,
   "id": "12d87652-66bd-4d4b-bf49-2e0c70b267c3",
   "metadata": {},
   "outputs": [
    {
     "name": "stdout",
     "output_type": "stream",
     "text": [
      "this is a multiline string.\n",
      "It spans multiple lines.\n",
      "Printed using the print function.\n"
     ]
    }
   ],
   "source": [
    "# Example: printing multiline output\n",
    "multiline_text = '''this is a multiline string.\n",
    "It spans multiple lines.\n",
    "Printed using the print function.'''\n",
    "print (multiline_text)"
   ]
  },
  {
   "cell_type": "markdown",
   "id": "6c32fd9d-e92c-465e-b1c5-d510666e9e57",
   "metadata": {},
   "source": [
    "# Special characters"
   ]
  },
  {
   "cell_type": "code",
   "execution_count": 10,
   "id": "0e8e4b28-2848-4d97-b3a1-99c54111dd2d",
   "metadata": {},
   "outputs": [
    {
     "name": "stdout",
     "output_type": "stream",
     "text": [
      "Hello, \n",
      "world!\n"
     ]
    }
   ],
   "source": [
    "# Example Newline (\\n)\n",
    "print (\"Hello, \\nworld!\")"
   ]
  },
  {
   "cell_type": "code",
   "execution_count": 11,
   "id": "b92d0e88-efdc-4593-a740-b746aa86e939",
   "metadata": {},
   "outputs": [
    {
     "name": "stdout",
     "output_type": "stream",
     "text": [
      "Name:\tJohn\n",
      "Age:\t25\n"
     ]
    }
   ],
   "source": [
    "# Example Tab (\\t)\n",
    "print (\"Name:\\tJohn\\nAge:\\t25\")"
   ]
  },
  {
   "cell_type": "code",
   "execution_count": 12,
   "id": "90f98877-43aa-4a27-a57e-1254e4493afb",
   "metadata": {},
   "outputs": [
    {
     "name": "stdout",
     "output_type": "stream",
     "text": [
      "This is a backlash: \\\n"
     ]
    }
   ],
   "source": [
    "# Example Backlash (\\\\)\n",
    "print (\"This is a backlash: \\\\\")"
   ]
  },
  {
   "cell_type": "code",
   "execution_count": 14,
   "id": "ef5ce583-2977-4774-a162-c3ed5b178f89",
   "metadata": {},
   "outputs": [
    {
     "name": "stdout",
     "output_type": "stream",
     "text": [
      "He said, 'Hello!'\n"
     ]
    }
   ],
   "source": [
    "# Example Single Quote (\\')\n",
    "print ('He said, \\'Hello!\\'')"
   ]
  },
  {
   "cell_type": "code",
   "execution_count": 15,
   "id": "6f7163b7-eeeb-4e57-9da1-26eb187bcf56",
   "metadata": {},
   "outputs": [
    {
     "name": "stdout",
     "output_type": "stream",
     "text": [
      "She  exclaimed, \"Wow!\"\n"
     ]
    }
   ],
   "source": [
    "# Example Double Quote (\\\")\n",
    "print (\"She  exclaimed, \\\"Wow!\\\"\")"
   ]
  },
  {
   "cell_type": "code",
   "execution_count": 17,
   "id": "5524edec-ad07-4c87-837b-807b92074057",
   "metadata": {},
   "outputs": [
    {
     "name": "stdout",
     "output_type": "stream",
     "text": [
      "This text.\n"
     ]
    }
   ],
   "source": [
    "# Example Carriage return (\\r)\n",
    "print (\"Overwrite \\rThis text.\")"
   ]
  },
  {
   "cell_type": "code",
   "execution_count": 19,
   "id": "c0755721-fc9e-4a92-9580-ffeafa678f9b",
   "metadata": {},
   "outputs": [
    {
     "name": "stdout",
     "output_type": "stream",
     "text": [
      "Remov This\n"
     ]
    }
   ],
   "source": [
    "#Example backspace (\\b)\n",
    "print (\"Remove\\b This\")"
   ]
  },
  {
   "cell_type": "code",
   "execution_count": 20,
   "id": "e73c5e7c-a31a-45e7-8a22-c322c8e03e2a",
   "metadata": {},
   "outputs": [
    {
     "name": "stdout",
     "output_type": "stream",
     "text": [
      "This is an alert!\u0007\n"
     ]
    }
   ],
   "source": [
    "# Example: alert (\\a)\n",
    "\n",
    "print(\"This is an alert!\\a\")"
   ]
  },
  {
   "cell_type": "code",
   "execution_count": 21,
   "id": "943ddf3f-4674-4753-a241-da081eac504c",
   "metadata": {},
   "outputs": [
    {
     "name": "stdout",
     "output_type": "stream",
     "text": [
      "Octal representation: H\n"
     ]
    }
   ],
   "source": [
    "# Example: octal representation (\\ooo)\n",
    "\n",
    "print(\"Octal representation: \\110\")"
   ]
  },
  {
   "cell_type": "code",
   "execution_count": 23,
   "id": "c15e9852-4569-45b1-9bff-ed3a061d6555",
   "metadata": {},
   "outputs": [
    {
     "name": "stdout",
     "output_type": "stream",
     "text": [
      "Hexadecimal representation: H\n"
     ]
    }
   ],
   "source": [
    "# Example: hexadecimal representation (\\xhh)\n",
    "\n",
    "print(\"Hexadecimal representation: \\x48\")"
   ]
  },
  {
   "cell_type": "code",
   "execution_count": 24,
   "id": "68438202-7ffe-4c61-9473-265622721b64",
   "metadata": {},
   "outputs": [
    {
     "name": "stdout",
     "output_type": "stream",
     "text": [
      "Positive indexing, negative indexing, and substring:\n",
      "third character: t\n",
      "last character negative: e\n",
      "substring: isawe\n"
     ]
    }
   ],
   "source": [
    "#task 1\n",
    "challenge_string = \"pythonisawesome\"\n",
    "third_char = challenge_string[2]\n",
    "last_char = challenge_string[-1]\n",
    "substring = challenge_string[6:11]\n",
    "\n",
    "print (\"Positive indexing, negative indexing, and substring:\")\n",
    "print (\"third character:\", challenge_string[2])\n",
    "print (\"last character negative:\", challenge_string[-1])\n",
    "print (\"substring:\", challenge_string[6:11])"
   ]
  },
  {
   "cell_type": "code",
   "execution_count": 26,
   "id": "d844936e-8928-43ea-92a1-420068dbe160",
   "metadata": {},
   "outputs": [
    {
     "name": "stdout",
     "output_type": "stream",
     "text": [
      "programming is fun!\n"
     ]
    }
   ],
   "source": [
    "#task 2\n",
    "#string concatenation\n",
    "string_1 = \"programming\"\n",
    "string_2 = \" is fun!\"\n",
    "\n",
    "result = string_1 + string_2\n",
    "print (result)"
   ]
  },
  {
   "cell_type": "code",
   "execution_count": 29,
   "id": "f4993841-1d04-477d-9a92-00636a25e0b7",
   "metadata": {},
   "outputs": [
    {
     "name": "stdout",
     "output_type": "stream",
     "text": [
      "John, Age: 25\n",
      "This is a multiline string\n",
      "Name:\tJohn\n",
      "Age:\t25\n",
      "This is a backslash: \\\n",
      "He said, 'Hello!'\n",
      "She exclaimed, 'Wow!'\n",
      "This text\n",
      "Remov This.\n",
      "\n"
     ]
    }
   ],
   "source": [
    "#task 3\n",
    "# special characters\n",
    "multiline_string = '''John, Age: 25\n",
    "This is a multiline string\n",
    "Name:\\tJohn\n",
    "Age:\\t25\n",
    "This is a backslash: \\\\\n",
    "He said, 'Hello!'\n",
    "She exclaimed, 'Wow!'\n",
    "Overwrite\\rThis text\n",
    "Remove\\b This.\n",
    "'''\n",
    "print (multiline_string)\n",
    "\n"
   ]
  },
  {
   "cell_type": "markdown",
   "id": "5eed35ac-4667-440e-b20a-52f94cd791c1",
   "metadata": {},
   "source": [
    "# String manipulation technique"
   ]
  },
  {
   "cell_type": "code",
   "execution_count": 32,
   "id": "af3b1793-624f-4718-9b98-6ffdad21731d",
   "metadata": {},
   "outputs": [
    {
     "name": "stdout",
     "output_type": "stream",
     "text": [
      "Hello World\n"
     ]
    }
   ],
   "source": [
    "#concatenation\n",
    "string1 = \"Hello\"\n",
    "string2 = \"World\"\n",
    "result = string1 + \" \" + string2\n",
    "print (result)"
   ]
  },
  {
   "cell_type": "code",
   "execution_count": 33,
   "id": "228968ea-00ae-4fc1-b9ae-0b9c1b2e2a76",
   "metadata": {},
   "outputs": [
    {
     "name": "stdout",
     "output_type": "stream",
     "text": [
      "PythonPythonPython\n"
     ]
    }
   ],
   "source": [
    "# Replication\n",
    "original_string = \"Python\"\n",
    "replicated_string = original_string * 3\n",
    "print (replicated_string)"
   ]
  },
  {
   "cell_type": "code",
   "execution_count": 34,
   "id": "ad82361d-aa49-4573-a3da-0582710bd03d",
   "metadata": {},
   "outputs": [
    {
     "name": "stdout",
     "output_type": "stream",
     "text": [
      "Python\n"
     ]
    }
   ],
   "source": [
    "# slicing : positive indexing\n",
    "text = \"Python is amazing\"\n",
    "substring = text [0:6]\n",
    "print (substring)"
   ]
  },
  {
   "cell_type": "code",
   "execution_count": 37,
   "id": "ebcb9907-d00c-4c09-984b-f4924e31f590",
   "metadata": {},
   "outputs": [
    {
     "name": "stdout",
     "output_type": "stream",
     "text": [
      "amazing\n"
     ]
    }
   ],
   "source": [
    "text = \"Python is amazing\"\n",
    "substring = text [-7: ]\n",
    "print (substring)"
   ]
  },
  {
   "cell_type": "code",
   "execution_count": 38,
   "id": "3ad871ef-d383-423b-9392-88297e8c99b2",
   "metadata": {},
   "outputs": [
    {
     "name": "stdout",
     "output_type": "stream",
     "text": [
      "HELLO WORLD\n"
     ]
    }
   ],
   "source": [
    "#Upper () method\n",
    "original_string = \"Hello world\"\n",
    "Uppercase_string = original_string.upper()\n",
    "print (Uppercase_string)"
   ]
  },
  {
   "cell_type": "code",
   "execution_count": 39,
   "id": "178cf308-68f0-49f1-9f0e-611d6d0a45a6",
   "metadata": {},
   "outputs": [
    {
     "name": "stdout",
     "output_type": "stream",
     "text": [
      "hello world\n"
     ]
    }
   ],
   "source": [
    "#lower () method\n",
    "original_string = \"Hello World\"\n",
    "lowercase_string = original_string. lower()\n",
    "print (lowercase_string)"
   ]
  },
  {
   "cell_type": "code",
   "execution_count": 43,
   "id": "b122c2f3-5a59-4506-ad73-de1bdc90ec82",
   "metadata": {},
   "outputs": [
    {
     "name": "stdout",
     "output_type": "stream",
     "text": [
      "Hello world\n"
     ]
    }
   ],
   "source": [
    "#Capitalize () method\n",
    "original_string = \"hello world\"\n",
    "Capitalize_string = original_string.capitalize()\n",
    "print (Capitalize_string)"
   ]
  },
  {
   "cell_type": "code",
   "execution_count": 44,
   "id": "7588231e-098f-4662-8ba5-dfc322f75acb",
   "metadata": {},
   "outputs": [
    {
     "name": "stdout",
     "output_type": "stream",
     "text": [
      "JavaScript is a powerful programming language\n"
     ]
    }
   ],
   "source": [
    "# Replace () method\n",
    "original_text = \"Python is a powerful programming language\"\n",
    "modified_text = original_text.replace(\"Python\", \"JavaScript\")\n",
    "print (modified_text)"
   ]
  },
  {
   "cell_type": "code",
   "execution_count": 46,
   "id": "b8e3dc23-6117-41aa-afa3-ff130c72e91e",
   "metadata": {},
   "outputs": [
    {
     "name": "stdout",
     "output_type": "stream",
     "text": [
      "16\n"
     ]
    }
   ],
   "source": [
    "Sentence = \"Searching for a keyword in this sentence\"\n",
    "index = Sentence. find(\"keyword\")\n",
    "print (index)"
   ]
  },
  {
   "cell_type": "code",
   "execution_count": 47,
   "id": "594a9248-69ec-43be-9e1b-f0c076e27015",
   "metadata": {},
   "outputs": [
    {
     "name": "stdout",
     "output_type": "stream",
     "text": [
      "Hey Alice!\n"
     ]
    }
   ],
   "source": [
    "#String concatenation\n",
    "greeting = \"Hey\"\n",
    "name = \"Alice\"\n",
    "punctuation = \"!\"\n",
    "\n",
    "print (greeting+ \" \" + name + punctuation)"
   ]
  },
  {
   "cell_type": "code",
   "execution_count": 48,
   "id": "4216ee9d-b624-479a-b424-dea45079c1d2",
   "metadata": {},
   "outputs": [
    {
     "name": "stdout",
     "output_type": "stream",
     "text": [
      "ABCABCABC\n"
     ]
    }
   ],
   "source": [
    "pattern = \"ABC\"\n",
    "print (pattern*3)"
   ]
  },
  {
   "cell_type": "code",
   "execution_count": 53,
   "id": "6b6e2fde-21d5-4a88-a5eb-27423b909431",
   "metadata": {},
   "outputs": [
    {
     "name": "stdout",
     "output_type": "stream",
     "text": [
      "sum: 22\n",
      "difference: 8\n",
      "product: 105\n",
      "division: 2.142857142857143\n"
     ]
    }
   ],
   "source": [
    "#1variables and assign them values of 15 and 7 respectively\n",
    "a = 15\n",
    "b = 7\n",
    "#store the result of their sum, difference, product, and division\n",
    "result = a+b\n",
    "result2 = a-b\n",
    "result3 = a*b\n",
    "result4 = float (a)/b\n",
    "print (\"sum:\", result)\n",
    "print (\"difference:\", result2)\n",
    "print (\"product:\", result3)\n",
    "print (\"division:\", result4)"
   ]
  },
  {
   "cell_type": "code",
   "execution_count": 57,
   "id": "31fee285-3a03-4e05-bf8c-77fb588ee5e5",
   "metadata": {},
   "outputs": [
    {
     "name": "stdout",
     "output_type": "stream",
     "text": [
      "Full name: AMINA ISA\n"
     ]
    }
   ],
   "source": [
    "#2 create 2 string variables, first_name and last_name, with you first and last names.\n",
    "first_name = \"Amina\"\n",
    "last_name = \"Isa\"\n",
    "\n",
    "#Concatenate them to form a full name and assign it to a new variable full_name.\n",
    "full_name = first_name + \" \" + last_name\n",
    "\n",
    "#Print the full name in uppercase\n",
    "print (\"Full name:\", full_name.upper())\n"
   ]
  },
  {
   "cell_type": "code",
   "execution_count": 58,
   "id": "6380b052-736f-471a-8980-37296add8733",
   "metadata": {},
   "outputs": [
    {
     "name": "stdout",
     "output_type": "stream",
     "text": [
      "Average books read per month: 3.75\n"
     ]
    }
   ],
   "source": [
    "#3 You have a variable num_of_books storing the number of books you have read this month, but it's currently in the form of a string.\n",
    "num_of_books = \"15\"\n",
    "\n",
    "#Create a new variable books_read by casting num_of_books to an integer. \n",
    "books_read = int(num_of_books)\n",
    "\n",
    "#calculate the average number of books read per week, assuming there are four weeks in a month\n",
    "weeks_in_a_month = 4\n",
    "average_books_read_per_month = books_read/weeks_in_a_month\n",
    "\n",
    "print (\"Average books read per month:\", average_books_read_per_month)"
   ]
  },
  {
   "cell_type": "code",
   "execution_count": 62,
   "id": "019caad9-908e-4026-8116-3f926044dbee",
   "metadata": {},
   "outputs": [
    {
     "name": "stdout",
     "output_type": "stream",
     "text": [
      "Name: John Doe\n",
      "Age: 25\n",
      "Height: 1.75\n",
      "Weight: 68.5\n",
      "BMI: 78.28571428571429\n"
     ]
    }
   ],
   "source": [
    "#4 We have been given the following information about a person:\n",
    "#Name: John Doe\n",
    "#Age: 25\n",
    "#Height: 1.75 metres\n",
    "#Weight: 68.5 kilograms\n",
    "#Create variables of appropriate data types to store this information.\n",
    "Name = str(\"John Doe\")\n",
    "Age = int(25)\n",
    "Height = float(1.75) #in meters\n",
    "Weight = float(68.5) #in kilograms\n",
    "\n",
    "#Then calculate the Body Mass Index (BMI) using the formula:\n",
    "#BMI={Weight}/{Height}2\n",
    "BMI = Weight/Height*2\n",
    "\n",
    "print (\"Name:\", Name)\n",
    "print (\"Age:\", Age)\n",
    "print (\"Height:\", Height)\n",
    "print (\"Weight:\", Weight)\n",
    "print (\"BMI:\", BMI)"
   ]
  },
  {
   "cell_type": "markdown",
   "id": "84aaade5-86b2-4f71-9508-fb745ac9cd1e",
   "metadata": {},
   "source": [
    "# Comprehensive Exercise"
   ]
  },
  {
   "cell_type": "code",
   "execution_count": 72,
   "id": "30accaa0-fdb0-4fd8-8f53-9af45979f599",
   "metadata": {},
   "outputs": [
    {
     "name": "stdout",
     "output_type": "stream",
     "text": [
      "Product name: Widget XYZ\n",
      "Initial quantity: 100\n",
      "Price per unit: $ 12.5\n",
      "Total value of initial quantity: 1250.0\n",
      "Discount percentage: 106250.0 %\n",
      "updated quantity: 130\n",
      "\n",
      "--- Results ---\n",
      "Total value of initial quantity: $ 1250.0\n",
      "Updated quantity in stock: 130\n",
      "Discounted value: $ 1062.5\n"
     ]
    }
   ],
   "source": [
    "# Given the variables\n",
    "product_name = str(\"Widget XYZ\")\n",
    "initial_quantity = int(100)\n",
    "price_per_unit = float(12.50)\n",
    "discount_percentage = float(0.15)\n",
    "\n",
    "# Calculate the total value of the initial stock\n",
    "Total_value_of_initial_quantity = initial_quantity * price_per_unit\n",
    "\n",
    "#Apply discount and calculate the discounted price\n",
    "Discount = Total_value_of_initial_quantity - (Total_value_of_initial_quantity * discount_percentage)\n",
    "\n",
    "#Update quantity based on new shipment\n",
    "new_shipment = int(30)\n",
    "updated_quantity = initial_quantity + new_shipment\n",
    "\n",
    "#print result\n",
    "print (\"Product name:\", product_name)\n",
    "print (\"Initial quantity:\", initial_quantity)\n",
    "print (\"Price per unit: $\", price_per_unit)\n",
    "print (\"Total value of initial quantity:\", Total_value_of_initial_quantity)\n",
    "print (\"Discount percentage:\", Discount*100,\"%\")\n",
    "print (\"updated quantity:\", updated_quantity)\n",
    "\n",
    "print (\"\\n--- Results ---\")\n",
    "print (\"Total value of initial quantity: $\", Total_value_of_initial_quantity)\n",
    "print (\"Updated quantity in stock:\", updated_quantity)\n",
    "print (\"Discounted value: $\", Discount)"
   ]
  },
  {
   "cell_type": "code",
   "execution_count": null,
   "id": "def70ece-98ba-48f0-8d5f-ffee74838780",
   "metadata": {},
   "outputs": [],
   "source": []
  },
  {
   "cell_type": "code",
   "execution_count": null,
   "id": "8bc40fe6-e6cd-4134-a492-198f5af5afcb",
   "metadata": {},
   "outputs": [],
   "source": []
  }
 ],
 "metadata": {
  "kernelspec": {
   "display_name": "Python 3 (ipykernel)",
   "language": "python",
   "name": "python3"
  },
  "language_info": {
   "codemirror_mode": {
    "name": "ipython",
    "version": 3
   },
   "file_extension": ".py",
   "mimetype": "text/x-python",
   "name": "python",
   "nbconvert_exporter": "python",
   "pygments_lexer": "ipython3",
   "version": "3.13.5"
  }
 },
 "nbformat": 4,
 "nbformat_minor": 5
}
